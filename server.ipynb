{
 "cells": [
  {
   "cell_type": "code",
   "execution_count": null,
   "id": "0e2a6fd1",
   "metadata": {},
   "outputs": [],
   "source": [
    "#Added Comment",
    "import cv2, socket as sk, numpy as np\n",
    "cam = cv2.VideoCapture(0)\n",
    "s = sk.socket(sk.AF_INET, sk.SOCK_STREAM)\n",
    "s.bind((sk.gethostbyname(sk.gethostname()), 1234))\n",
    "s.listen(10)\n",
    "conn, addr = s.accept()\n",
    "while True:\n",
    "    data = conn.recv(90456)\n",
    "    nparr = np.fromstring(data, np.uint8)\n",
    "    decimg = cv2.imdecode(nparr, cv2.IMREAD_COLOR)\n",
    "    _, frame = cam.read()\n",
    "    cimg = cv2.resize(frame, (200,150), 3)\n",
    "    if type(decimg) is type(None):\n",
    "        pass\n",
    "    else:\n",
    "        decimg[:150, :200] = cimg\n",
    "        cv2.imshow('openvc', decimg)\n",
    "        if cv2.waitKey(1)== 27:\n",
    "            break\n",
    "    framesend = cv2.imencode('.jpg', frame)[1].tobytes()\n",
    "    conn.sendall(framesend)\n",
    "cv2.destroyAllWindows()\n",
    "cam.release()"
   ]
  },
  {
   "cell_type": "code",
   "execution_count": null,
   "id": "477d41b4",
   "metadata": {},
   "outputs": [],
   "source": []
  },
  {
   "cell_type": "code",
   "execution_count": null,
   "id": "dc41fef2",
   "metadata": {},
   "outputs": [],
   "source": []
  }
 ],
 "metadata": {
  "kernelspec": {
   "display_name": "Python 3",
   "language": "python",
   "name": "python3"
  },
  "language_info": {
   "codemirror_mode": {
    "name": "ipython",
    "version": 3
   },
   "file_extension": ".py",
   "mimetype": "text/x-python",
   "name": "python",
   "nbconvert_exporter": "python",
   "pygments_lexer": "ipython3",
   "version": "3.8.8"
  }
 },
 "nbformat": 4,
 "nbformat_minor": 5
}
